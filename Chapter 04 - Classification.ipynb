{
 "cells": [
  {
   "cell_type": "markdown",
   "metadata": {},
   "source": [
    "# [ISLR] Chapter 04 - Classification\n",
    "\n",
    "* ISLR 책을 공부하며 가벼운 내용 소개, 원래 알고 있던 내용을 함께 정리합니다.\n",
    "* ISLR 책에 대한 원서는 [여기](http://www-bcf.usc.edu/~gareth/ISL/)에서 확인할 수 있습니다.\n",
    "* ISLR 책에 대한 참고 블로그는 [Go`s Blog](https://godongyoung.github.io/category/ML.html)를 참고했습니다.\n",
    "* 코드 구현은 [밑바닥부터 시작하는 데이터 과학](https://book.naver.com/bookdb/book_detail.nhn?bid=10652749) 이 책을 참고했습니다.\n",
    "* 오타나 틀린 내용, 토의할 내용은 언제나 이슈로 등록해주세요.\n",
    "---"
   ]
  },
  {
   "cell_type": "markdown",
   "metadata": {},
   "source": [
    "## Contents\n",
    "    4.1 An Overview of Classification\n",
    "    \n",
    "    4.2 Why Not Linear Regression?\n",
    "    \n",
    "    4.3 Logistic Regression\n",
    "        4.3.1 The Logistic Model\n",
    "        4.3.2 Estimating the Regression Coefficients\n",
    "        4.3.3 Making Predictions\n",
    "        4.3.4 Multiple Logistic Regression\n",
    "        4.3.5 Logistic Regression for >2 Response Classes\n",
    "        \n",
    "    4.4 Linear Discriminant Analysis\n",
    "        4.4.1 Using Bayes` Theorem for Classification\n",
    "        4.4.2 Linear Discriminant Analysis for p = 1\n",
    "        4.4.3 Linear Discriminant Analysis for p > 1\n",
    "        4.4.4 Quadratic Discriminant Analysis\n",
    "        \n",
    "    4.5 A Comparison of Classification Methods"
   ]
  }
 ],
 "metadata": {
  "kernelspec": {
   "display_name": "Python 3",
   "language": "python",
   "name": "python3"
  },
  "language_info": {
   "codemirror_mode": {
    "name": "ipython",
    "version": 3
   },
   "file_extension": ".py",
   "mimetype": "text/x-python",
   "name": "python",
   "nbconvert_exporter": "python",
   "pygments_lexer": "ipython3",
   "version": "3.6.7"
  },
  "toc": {
   "base_numbering": 1,
   "nav_menu": {},
   "number_sections": true,
   "sideBar": true,
   "skip_h1_title": false,
   "title_cell": "Table of Contents",
   "title_sidebar": "Contents",
   "toc_cell": false,
   "toc_position": {},
   "toc_section_display": true,
   "toc_window_display": false
  }
 },
 "nbformat": 4,
 "nbformat_minor": 2
}
