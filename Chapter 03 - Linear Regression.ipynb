{
 "cells": [
  {
   "cell_type": "markdown",
   "metadata": {},
   "source": [
    "# [ISLR] Chapter 03 - Linear Regression\n",
    "\n",
    "* ISLR 책을 공부하며 가벼운 내용 소개, 원래 알고 있던 내용을 함께 정리합니다.\n",
    "* ISLR 책에 대한 원서는 [여기](http://www-bcf.usc.edu/~gareth/ISL/)에서 확인할 수 있습니다.\n",
    "* ISLR 책에 대한 참고 블로그는 [Go`s Blog](https://godongyoung.github.io/category/ML.html)를 참고했습니다.\n",
    "* 코드 구현은 [밑바닥부터 시작하는 데이터 과학](https://book.naver.com/bookdb/book_detail.nhn?bid=10652749) 이 책을 참고했습니다.\n",
    "* 오타나 틀린 내용, 토의할 내용은 언제나 이슈로 등록해주세요.\n",
    "---"
   ]
  },
  {
   "cell_type": "markdown",
   "metadata": {},
   "source": [
    "## Contents\n",
    "    3.1 Simple Linear Regression\n",
    "        3.1.1 Estimating the Coefficients\n",
    "        3.1.2 Assessing the Accuracy of the Coefficient Estimates\n",
    "        3.1.3 Assessing the Accuracy of the Model\n",
    "    \n",
    "    3.2 Multiple Linear Regression\n",
    "        3.2.1 Estimating the Regression Coefficients\n",
    "        3.2.2 Some Important Questions\n",
    "    \n",
    "    3.3 Other Considerations in the Regression Model\n",
    "        3.3.1 Qualitative Predictors\n",
    "        3.3.2 Extensions of the Linear Model\n",
    "        3.3.3 Potential Problems\n",
    "        \n",
    "    3.4 The Marketing Plan\n",
    "    \n",
    "    3.5 Comparison of Linear Regression with K-Nearest Neighbors\n",
    "---"
   ]
  },
  {
   "cell_type": "markdown",
   "metadata": {},
   "source": [
    "선형회귀는 지도학습 중 비교적 간단한 방법에 속하는 모델이다. 다른 모델에 비해 비교적 간단하지만 해석력 및 다양한 분석을 할 수 있어 널리 사용되며 다른 방법의 기초가 되는 모델이다. 특히 딥러닝은 선형회귀부터 시작이니 알아두면 알아둘수록 좋다.\n",
    "\n",
    "다만, 나는 통계 전공자가 아니다보니 상대적으로 부족한 부분이 많다. 이 장을 읽을때 명확하지 않은 부분이 많았다. 이를 보충하기 위해 최근 통계강의를 듣고 있으니 부족한 부분은 차차 채울 수 있도록 하겠다.\n",
    "\n",
    "독립변수와 종속변수의 관계, 예를 들어 TV, 라디오, 뉴스 광고 지출과 총 판매량의 관계를 밝히고자 할 때 다음 주요 질문을 할 수 있다.\n",
    "\n",
    "* 1) 실제로 광고 지출과 총 판매량 사이에 어떠한 관계가 있는가?\n",
    "* 2) 광고 지출과 총 판매량 사이에 관계가 있다면 얼마나 뚜렷한가?\n",
    "* 3) 어떤 매체(TV, 라디오, 뉴스)가 총 판매량에 기여를 했는가?\n",
    "* 4) 각 매체가 총 판매량에 미친 영향을 얼마나 정확하게 추정할 수 있는가?\n",
    "* 5) 미래의 총 판매량을 얼마나 정확하게 예측할 수 있는가?\n",
    "* 6) 광고 지출과 총 판매량 사이에 선형 관계가 있는가?\n",
    "* 7) 각 매체 사이에 상호작용 효과가 있는가?\n",
    "    \n",
    "이와 같은 질문에 선형회귀가 어떠한 답을 내줄 수 있는 지 알아볼 것이다.\n",
    "\n",
    "앞서 2장에서 우리는 추론과 예측을 위해 어떤 함수를 추정한다고 배웠다. 이 관점에서 선형회귀는 상당히 추론 관점의 통계적 학습 모델이다. 위 질문 중 5번을 제외한 나머지가 추론 관점의 질문이다!"
   ]
  },
  {
   "cell_type": "markdown",
   "metadata": {},
   "source": [
    "## 3.1 Simple Linear Regression\n",
    "---\n",
    "단순 선형회귀는 독립변수와 종속변수의 관계를 설명할 때, 가장 단순한 모델 중 하나이다. 단순 선형회귀 라는 용어에서 알 수 있듯이, 실제 식을 보면 매우 간단하다. 다만, 선형회귀를 위해서 엄청난 가정과 제약이 들어간다. 컴피티션에선 딱히 가정을 만족하지 않아도 사용하는 경향이 있지만, 사실 많은 가정들을 만족시키지 못하면 실제로는 사용할 수 없다고 한다. 아래 식으로 보자.\n",
    "\n",
    "\\begin{equation*}\n",
    "Y = \\beta_0 + \\beta_1X + e\n",
    "\\end{equation*}\n",
    "\n",
    "위 식에서 $X$가 독립변수, $Y$가 $X$의 변화에 따른 종속변수이다. ML관점에서 $X$는 피처, $Y$는 타겟이다. 이를 영어로는 **'regression Y on X'** 라고 표현한다. 이때, $\\beta_0$와 $\\beta_1$은 계수 또는 **파라미터**라고 지칭한다. 우리가 함수를 추정한다는 것은 결국 이 파라미터를 추정한다는 것과 같다. \n",
    "\n",
    "번외로 연구자들마다 파라미터에 대한 다양한 표기법을 사용한다. 내가 봤을 때 주로 $\\theta$ 또는 $\\beta$를 사용하는 것 같다.\n",
    "\n",
    "선형 함수를 그래프로 보면 아래와 같다. 고등학교 때 일차함수에 대해 배웠다면 매우 익숙한 그래프일 것이다."
   ]
  },
  {
   "cell_type": "code",
   "execution_count": 8,
   "metadata": {},
   "outputs": [
    {
     "data": {
      "text/plain": [
       "[<matplotlib.lines.Line2D at 0x1ecc986d080>]"
      ]
     },
     "execution_count": 8,
     "metadata": {},
     "output_type": "execute_result"
    },
    {
     "data": {
      "image/png": "[encoded data removed]",
      "text/plain": [
       "<Figure size 288x288 with 1 Axes>"
      ]
     },
     "metadata": {
      "needs_background": "light"
     },
     "output_type": "display_data"
    }
   ],
   "source": [
    "import matplotlib.pyplot as plt\n",
    "\n",
    "x = range(5)\n",
    "y = range(5)\n",
    "\n",
    "f, ax = plt.subplots(figsize = (4,4))\n",
    "plt.plot(x,y)"
   ]
  },
  {
   "cell_type": "markdown",
   "metadata": {},
   "source": [
    "##### key sentences\n",
    "\n",
    ">* Simple linear regression lives up to its name: it is a very straightforward approach for predicting a quantitative response Y on the basis of a single predictor variable X.\n",
    "* Together, $\\beta_0$ and $\\beta_1$ are known as the model coefficients or parameters."
   ]
  },
  {
   "cell_type": "markdown",
   "metadata": {},
   "source": [
    "### 3.1.1 Estimating the Coefficients\n",
    "우리는 데이터를 잘 설명해 줄 선형함수 한 가지를 가정했다. 이제 해야할 일은 주어진 데이터에 맞춰 선형함수의 파라미터를 추정해야한다. 앞서 2장에서 우리는 함수를 추정하는 방법에 대해 배웠다. 다시한번 떠올려보자.\n",
    "\n",
    "\\begin{equation*}\n",
    "argmin_{f \\subset H} \\frac{1}{n} \\sum_{i=1}^{n} L(\\hat{f}(x^i), y^i)\n",
    "\\end{equation*}\n",
    "\n",
    "함수공간 H의 함수 f를 정의해 예측값과 실제값 사이의 손실함수를 정의하고, 손실함수를 최소화 할 수 있는 함수 f를 우리는 채택해야 한다. 일단, 선형회귀에서 함수는 선형함수로 함수공간이 축소되고, 이제 정의해야 할 것은 손실함수이다. \n",
    "\n",
    "선형회귀의 경우 손실함수로 주로 ***RSS(Sum of squares residual)*** 또는 ***SSE(Sum of square error)***를 사용한다(RSS와 SSE는 표기만 다르지 같은 의미다.). \n",
    "\n",
    "\\begin{equation*}\n",
    "RSS = (y_1 - \\hat{y}_1)^2 + (y_2 - \\hat{y}_2)^2 ... + (y_n - \\hat{y}_n)^2\n",
    "\\end{equation*}\n",
    "\n",
    "일반적으로 $y_i - \\hat{y}_i$을 잔차라고 하며, $e_i$으로 표기한다.\n",
    "\n",
    "그렇다면 RSS를 최소화하는 파라미터를 어떻게 구할 수 있을까? 위 식을 풀어보면 파라미터의 제곱식이 된다. 간단히 미분해서 0이 되는 파라미터를 찾으면 된다. 추정된 계수는 다음과 같다.\n",
    "\n",
    "\\begin{equation*}\n",
    "\\hat{\\beta_0} = \\bar{y} - \\hat{\\beta_1}\\bar{x}\n",
    "\\end{equation*}\n",
    "\n",
    "\\begin{equation*}\n",
    "\\hat{\\beta_1} = \\frac{\\sum x_i(y_i - \\bar{y})}{\\sum x_i(x_i - \\bar{x})} \n",
    "\\end{equation*}\n",
    "\n",
    "위 방법은 미분을 통해 주어진 데이터에 딱 맞는 회귀계수를 바로 추정한 것이고 향후 경사하강법 등 다양한 방법들을 통해 회귀계수를 추정할 수 있다."
   ]
  },
  {
   "cell_type": "code",
   "execution_count": 2,
   "metadata": {},
   "outputs": [
    {
     "name": "stdout",
     "output_type": "stream",
     "text": [
      "회귀계수 b0: 1.38 \n",
      "회귀계수 b1: 0.85\n",
      "선형함수: y_hat = 0.85 * x + 1.38\n"
     ]
    },
    {
     "data": {
      "image/png": "[encoded data removed]",
      "text/plain": [
       "<Figure size 576x288 with 1 Axes>"
      ]
     },
     "metadata": {
      "needs_background": "light"
     },
     "output_type": "display_data"
    }
   ],
   "source": [
    "import matplotlib.pyplot as plt\n",
    "import numpy as np\n",
    "\n",
    "x = np.array(range(10))\n",
    "y = np.array([1,3,5,2,4,6,7,5,9,10])\n",
    "\n",
    "b1 = np.sum(x * (y - np.mean(y))) / np.sum(x * (x - np.mean(x)))\n",
    "b0 = np.mean(y) - b1 * np.mean(x)\n",
    "\n",
    "f, ax = plt.subplots(figsize = (8,4))\n",
    "plt.plot(x, y, 'o')\n",
    "plt.plot(x, b1 * x + b0)\n",
    "\n",
    "print(\"회귀계수 b0: {0:.2f} \\n회귀계수 b1: {1:.2f}\".format(b0, b1))\n",
    "print(\"선형함수: y_hat = {0:.2f} * x + {1:.2f}\".format(b1, b0))"
   ]
  },
  {
   "cell_type": "markdown",
   "metadata": {},
   "source": [
    "##### Key sentences\n",
    "> * in other words, we want to find a $\\beta_0$ and a $\\beta_1$ such that the resulting line is as close as possible data points.\n",
    "* By far the most common approach involves minimizing the least squares criterion, and we take that approach in this chapter.\n",
    "* The least squares approach chooses $\\hat{\\beta_0}$ and $\\hat{\\beta_1}$ to minimize the ***RSS***."
   ]
  },
  {
   "cell_type": "markdown",
   "metadata": {},
   "source": [
    "### 3.1.2 Assessing the Accuracy of the Coefficient Estimates\n",
    "---\n",
    "\n",
    "통계에 대한 내용이 많아요 ... 곧 통계 강의를 듣고 채우겠습니다 ..."
   ]
  },
  {
   "cell_type": "markdown",
   "metadata": {},
   "source": [
    "### 3.1.3 Assessing the Accuracy of the Model\n",
    "---\n",
    "앞서 최소제곱법을 통해 추정한 함수에 대한 평가이다. 2장에서 말했듯이 함수에 대한 평가 지표는 매우 다양하다.\n",
    "\n",
    "그 중 선형함수를 평가할 때 자주 사용하는 ***RSE(residual standard error)***와 $R^2$에 대해 알아볼 것이다.\n",
    "\n",
    "#### RSE\n",
    "RSE는 앞서 배운 **MSE**의 제곱근을 의미한다. 일반적으로 **RMSE(root mean squared error)**로 자주 사용한다.\n",
    "\n",
    "\\begin{equation*}\n",
    "RSE(RMSE) = \\sqrt{\\frac{1}{n-2}RSS}\n",
    "\\end{equation*}\n",
    "\n",
    "위 식을 보면 ***RSE***를 데이터의 개수 $n$이 아닌 $n-2$로 나눈다. 이는 사실, RSS가 $\\sigma^2$의 추정으로 사용될 수 있고, $\\sigma^2$의 추정에 있어 추정계수만큼 자유도를 감소해야 한다($\\sigma^2$는 오류 항에 대한 분산). 하지만, ML함에 있어 만 개 이상의 데이터를 다루는 경우가 많고 10,000으로 나누나 9,998로 나누나 거의 비슷하기 때문에 데이터 개수만큼 나눠서 많이 사용한다. 하지만 RSE 같은 경우 종속변수의 단위에 따라 달라질 수 있어 다양한 데이터 셋을 객관적으로 평가하기 힘들다는 단점이 있다고는 한다. 하지만, 우리는 보통 한 종류의 데이터 셋을 다른 모델로 평가할 때 평가 지표를 사용하기 때문에 단점이 사실상 없다.\n",
    "\n",
    "#### $R^2$\n",
    "$R^2$는 비율로 모델을 평가하기 때문에 종속변수에 단위에 상관없이 일관성있는 평가지표이다. 그렇다면 어떤 비율로 모델을 평가할까? 전체 에러 중에 모델이 설명하는 에러 비율을 의미한다. 이때 전체 에러를 실제값과 실제값 평균의 차 즉, 종속변수에 대한 분산으로 정의하며, 이 중 모델이 설명하지 못하는 에러는 예측값과 실제값의 차로 정의한다. 아래 그래프를 보자.\n",
    "\n",
    "![그림](https://www.researchgate.net/profile/Christian_Gold2/publication/322398615/figure/fig17/AS:581620512903169@1515680544091/Visualization-of-SSE-SSR-SST.png)\n",
    "\n",
    "(Reference: Modeling of Take-Over Performance in Highly Automated Vehicle Guidance - Scientific Figure on ResearchGate. Available from: https://www.researchgate.net/figure/Visualization-of-SSE-SSR-SST_fig17_322398615)\n",
    "\n",
    "위 그래프에서 ***SST(Sum of Total) 또는 TSS***는 잔차를 의미하고, ***SSE***는 ***RSS*** 즉, 우리가 앞서 배운 예측값과 실제값의 차를 의미한다(***SST = TSS***, ***RSS = SSE***). ***SSR***은 ***SST***에서 ***SSE***를 뺀 값이다. $R^2$에서는 $SST$ 대비 우리의 모델이 설명하는 에러 즉, $SSR$의 비율이다.\n",
    "\n",
    "\\begin{equation*}\n",
    "R^2 = \\frac{SSR}{TSS} = \\frac{TSS - SSE}{TSS} = 1 - \\frac{SSE}{TSS}\n",
    "\\end{equation*}\n",
    "\n",
    "따라서 $R^2$값은 0과 1사이의 범위를 가지며, 1에 가까울수록 우리의 모델이 종속변수를 잘 설명하고, 0에 가까울수록 우리의 모델이 종속변수를 잘 설명하지 못한다는 의미이다.\n",
    "\n",
    "그렇다면 $R^2$가 분야에 상관없이 절대적인 지표로 활용될 수 있을까? 아니다! 어떤 분야에선 $R^2$가 0.9정도만 돼도 문제가 있을 수 있지만, 또 다른 분야에선 $R^2$가 0.1 미만이어도 좋은 분석일 수 있다."
   ]
  },
  {
   "cell_type": "markdown",
   "metadata": {},
   "source": [
    "## 3.2 Multiple Linear Regression\n",
    "---\n",
    "단순 선형회귀는 설명력에 있어서 매우 강력하다. 종속변수에 영향을 미치는 독립변수가 한 개 뿐이니 독립변수가 종속변수에 어떤 영향을 미치는 지 정확하게 확인할 수 있다. 하지만, 현실세계에서 독립변수가 한 개인 상황은 존재하지 않는다. 어떤 현상은 복합적인 요인에 의해 결정된다. 예를 들어, 사람을 구분하는 문제를 푼다고 했을 때, 사람이 키 만으로 결정되지는 않는다. 키, 몸무게, 안경 착용 여부, 머리 색 등등 정말 복합적인 요인이 한 사람을 결정한다. 이처럼 독립변수가 여러개 있을 때, 우리는 다중선형회귀라 한다. \n",
    "\n",
    "참고로 다중선형회귀와 다항선형회귀는 다르다. 마치 독립변수가 여러 개 있는 것이 다항선형회귀로 착각하기 쉬운데 다중선형회귀다. 영어로 이해하면 훨씬 쉽다. 다중선형회귀는 **Multiple Linear Regression**, 다항선형회귀는 **Polynomial Linear Regression**이다!\n",
    "\n",
    "그렇다면 다중선형회귀의 경우 어떻게 접근해야 할까? 우리는 단순 선형회귀를 배웠으니 독립변수의 개수만큼 단순 선형회귀 모델을 만들어 볼 수 있다. 하지만, 이 경우 크게 두 가지 문제가 발생한다. 먼저 독립변수가 $n$개라면 우리의 모델이 $n$개가 된다. 그렇다면 예측문제에서 모델 결정 문제가 발생한다. 둘째, 종속변수는 한 가지 독립변수에 의해서 결정되는 것이 아닌, 여러가지 독립변수에 의해 결정된다. 이때 각 독립변수 별 모델을 만든다면, 나머지 독립변수를 무시하게 된다.\n",
    "\n",
    "그렇다면 어떻게 선형모델을 작성해야 할까? 아래 식을 보자.\n",
    "\n",
    "\\begin{equation*}\n",
    "Y = \\beta_0 + \\beta_1X_1 + \\beta_2X_2 + \\beta_3X_3 + ... \\beta_pX_p + e\n",
    "\\end{equation*}\n",
    "\n",
    "위 식에서 $\\beta_i$가 의미하는 것은 종속변수 $Y$에 $X_i$가 미치는 영향이다. 중요한 점은 모든 다른 독립변수가 고정됐을 때 미치는 영향이다.\n",
    "\n",
    "참고로 함수공간 관점에서 보면 다중선형회귀도 확장된 공간 속 함수이다. 함수의 차원 증가에는 두 가지 유형이 있다. **차수의 증가** 또는 **항의 증가**이다."
   ]
  },
  {
   "cell_type": "markdown",
   "metadata": {},
   "source": [
    "##### Key sentences\n",
    "\n",
    ">* However, in practice we often have more than one predictor.\n",
    "* A better approach is to extend the simple linear regression model so that it can directly accommodate multiple predictors.\n",
    "* We interpret $beta_i$ as the average effect on Y of a one unit increase in $X_i$, holding all other predictors fixed."
   ]
  },
  {
   "cell_type": "markdown",
   "metadata": {},
   "source": [
    "### 3.2.1 Estimating the Regression Coefficients\n",
    "---\n",
    "다중선형회귀에서 계수 추정은 어렵지 않다. 단순 선형회귀에서 추정했던 것처럼 손실함수를 정의하고, 손실함수를 최소화하는 파라미터를 찾으면 된다. 다중선형회귀 최소제곱법을 통해 손실함수를 정의한다.\n",
    "\n",
    "\\begin{equation*}\n",
    "RSS = (y_1 - \\hat{y}_1)^2 + (y_2 - \\hat{y}_2)^2 ... + (y_n - \\hat{y}_n)^2\n",
    "\\end{equation*}\n",
    "\n",
    "***RSS***를 최소화하는 파라미터 역시 편미분을 통해 구할 수 있다. 다만, 모든 계수마다 편미분을 계산하려면 엄청난 시간과 노력이 필요하다. 행렬식을 이용하면 정규 방정식을 통해 쉽고 편하게 계산할 수 있다. 다만, 회귀계수가 많아지면 많아질수록 정규방정식의 계산속도는 기하급수적으로 늘어난다. 고로 딥러닝에서 활용하기에는 부적합하다.\n",
    "\n",
    "\\begin{equation*}\n",
    "\\overrightarrow{Y} = X\\overrightarrow{\\beta}\n",
    "\\end{equation*}\n",
    "\n",
    "\n",
    "\\begin{equation*}\n",
    "\\overrightarrow{\\beta} = (X^TX)^{-1}X^T\\overrightarrow{Y}\n",
    "\\end{equation*}"
   ]
  },
  {
   "cell_type": "markdown",
   "metadata": {},
   "source": [
    "### 3.2.2 Some Important Questions\n",
    "---\n",
    "우리가 다중선형회귀를 공부할 때 만나게되는 주요 질문들이 있다.\n",
    "* 1) 종속변수를 예측할 때 독립변수 중 최소 한 개라도 유용한가? (회귀계수의 적합성 문제)\n",
    "* 2) 종속변수를 예측할 때 모든 독립변수가 도움이 되는가 또는 독립변수 중 일부만 도움이 되는가?\n",
    "* 3) 모델이 얼마나 데이터에 잘 적합 됐는가? (모델 평가 문제)\n",
    "* 4) 우리의 예측은 얼마나 정확할 것인가?\n",
    "\n",
    "#### 1. 종속변수를 예측할 때 독립변수 중 최소 한 개라도 유용한가?\n",
    "통계에 대한 내용이 많이 나오네요 ... 통계 지식 채운 후 다시 다루겠습니다.\n",
    "\n",
    "#### 2. 종속변수를 예측할 때 모든 독립변수가 도움이 되는가 또는 독립변수 중 일부만 도움이 되는가?\n",
    "이는 1번 검정을 통해 독립변수 중 하나라도 유용하다고 결론났을 때 생각해볼 문제이다. 이제 우리는 $p$개의 독립변수 중 어떤 독립변수가 종속변수에 영향을 미칠지 알아봐야 한다. $p$개의 독립변수 중 예측을 방해하는 노이즈가 있을 수도 있고, 또 데이터 포인트보다 독립변수의 개수가 많을 때 모델 적합조차 불가능하기 때문이다. 독립변수를 선별하는 과정을 ***Feature selection*** 또는 ***Variable selection***이라 한다. \n",
    "\n",
    "다중선형회귀에서 크게 **Forward Selection**, **Backward Selection**, **Mixed Selection**이 존재한다.\n",
    "\n",
    "##### Forward Selection\n",
    "전진 선택법은 다음의 과정을 통해 이뤄진다.\n",
    "- 1) 아무 독립변수도 포함되지 않은 모델에서\n",
    "- 2) 특정 지표가 유의한 독립변수를 한 개 넣는다. (특정지표는 t 통계랑, f 통계랑, 오차제곱합 등이 될 수 잇음)\n",
    "- 3) 해당 독립변수를 넣은 상태에서 2번을 계산하여 또 하나 넣는다.\n",
    "- 4) 중요한 독립변수가 없다면 멈춘다.\n",
    "\n",
    "##### Bacward Selection\n",
    "후진 제거법은 다음의 과정을 통해 이뤄진다.\n",
    "- 1) 모든 독립변수가 포함된 모델에서\n",
    "- 2) 제일 큰 p-value를 가진 독립 변수를 지운다. (p-value 뿐만 아니라 오차제곱합으로도 판단 가능)\n",
    "- 3) 남은 p-1개의 독립변수 중 또 p-value를 계산해 뺀다.\n",
    "- 4) 특정 임계점 기준으로 더이상 지울 독립변수가 없다면 멈춘다.\n",
    "\n",
    "##### Mixed Selection\n",
    "전진 단계적 회귀는 다음의 과정을 통해 이뤄진다.\n",
    "- 1) 아무 독립변수도 포함되지 않은 모델에서\n",
    "- 2) 특정 지표가 유의한 독립변수 한 개 넣는다.\n",
    "- 3) 해당 독립변수를 포함한 모델의 모든 독립변수에서 p-value를 계산해서 가장 의미가 없는 변수를 지운다. (보통 어렵게 들어오고, 쉽게 뺀다.)\n",
    "- 4) 2번, 3번을 계속 반복한다.\n",
    "- 5) 더이상 추가할 독립변수와 제거할 독립변수가 없다면 멈춘다.\n",
    "\n",
    "#### 3. 모델이 얼마나 데이터에 잘 적합 됐는가?\n",
    "다중선형회귀 역시 ***RSE***와 $R^2$가 주로 사용된다. 다만, 다중선형회귀에선 독립변수의 개수를 고려할 수 있는 지표를 사용해야 한다. $R^2$는 독립변수가 많아지면 많아질수록 함수공간 자체가 확장되고, 이는 **train data**에 과적합될 가능성이 더 높아진다. 실제로 의미없는 독립변수를 추가하더라도 $R^2$는 항상 커진다. 따라서 **Feature Engineering**을 통한 모델 고려시 $R^2$외에 독립변수의 개수를 고려하는 지표를 사용해야한다. 즉, 변수를 추가함으로써 생기는 위험이 변수를 추가함으로써 생기는 설명력보다 큰 지를 고려하는 것이다. 이때 사용되는 지표가 ***RSE***이다. \n",
    "\n",
    "\\begin{equation*}\n",
    "RSE(RMSE) = \\sqrt{\\frac{1}{n-(p+1)}RSS}\n",
    "\\end{equation*}\n",
    "\n",
    "참고로 주어진 데이터에 모델을 적합할 때(**train 과정**) 위와 같은 설명이 가능한 것 같다. 실제로 우리가 모델을 평가할 때는 **train data**가 아닌 **validation data**로 평가한다. 검증 데이터의 경우 차원의 수가 높아지면 variance가 높아지고, 이는 검증 데이터의 $R^2$의 감소나 $RMSE$의 증가를 야기할 수 있다. 즉, ISLR 책에서 설명하는 적합은 **train data**기준으로 설명하는 것 같다. 이에 대해 다른 이견이 있다면 이슈로 등록해주길 바란다.\n",
    "\n",
    "참고로 $R^2$라는 지표가 회귀 모델 외 다른 곳에서도 사용될 수 있는 지 생각해봤다. 언뜻보면 수식에 값 대입만 하면 되니까 사용할 수 있는 것 처럼 보인다. 다만, $R^2$라는 지표의 범위가 0보다 작아질 수 있을 것 같다. 회귀 모델이 아닌 경우 충분히 ***TSS***보다 ***SSE***가 커질 수 있기 때문이다. 이 역시 이견이 있다면 이슈 등록 바란다.\n",
    "\n",
    "#### 4. 우리의 예측은 얼마나 정확한가?\n",
    "통계 공부하고 올게요 .. 죄송해요 .."
   ]
  },
  {
   "cell_type": "markdown",
   "metadata": {},
   "source": [
    "##### Key sentences\n",
    ">* 1) Is there a relationship between the response and predictions?\n",
    "* 2) Do all the predictors help to explain Y, or is only a subset of the predictor useful?\n",
    "* 3) How well does the model fit the data?\n",
    "* 4) Given a set of predictor values, what response value should we predict, and how accurate is our prediction?"
   ]
  },
  {
   "cell_type": "markdown",
   "metadata": {},
   "source": [
    "## 3.3 Other Considerations in the Regression Model\n",
    "---"
   ]
  },
  {
   "cell_type": "markdown",
   "metadata": {},
   "source": [
    "### 3.3.1 Qualitative Predictors\n",
    "\n",
    "변수에는 질적변수(Qualitative)와 양적변수(Quantitative)가 있다. 양적변수는 연속형 변수 즉, 키, 몸무게 같이 실수형 변수를 의미한다. 반면 질적변수는 이산형 변수 즉, 성별, 결혼여부, 인종 등을 의미한다. 우리가 모델을 세울 때 우리의 모델에게 이러한 정보를 전달해야 한다. \n",
    "\n",
    "뒤에서 배울 파라미터가 없는 함수들은 사실 상 조금의 선처리와 함께 질적변수 그 자체를 처리할 수 있다. 하지만 파라미터가 있는 함수들, 선형회귀, 이진회귀, 신경망 등에선 함수가 이해할 수 있는 형태로 질적변수를 넣어줘야 한다. 함수는 남자, 여자와 같이 텍스트 정보를 입력으로 받을 수 없다. 이를 위해 우리는 관계를 더 잘 설명해줄 수 있는 다양한 인코딩 방식을 적용한다. 하지만, 인코딩을 다양하게 하기 위해선 데이터에 대한 이해가 필요하고 상당히 비용이 많이 드는 작업이다. 이 때 가볍게 적용해 볼 수 있는 방법이 질적변수를 더미변수 처리 해주는 것이다.\n",
    "\n",
    "예를 들어, 우리가 성별이라는 독립변수를 갖고 있다고 해보자. 그러면 성별이라는 독립변수의 class 는 남, 녀 같은 값을 가질 것이고, 이를 0, 1로 치환해주면 된다. 아래 예시를 보자."
   ]
  },
  {
   "cell_type": "code",
   "execution_count": 3,
   "metadata": {},
   "outputs": [
    {
     "data": {
      "text/html": [
       "<div>\n",
       "<style scoped>\n",
       "    .dataframe tbody tr th:only-of-type {\n",
       "        vertical-align: middle;\n",
       "    }\n",
       "\n",
       "    .dataframe tbody tr th {\n",
       "        vertical-align: top;\n",
       "    }\n",
       "\n",
       "    .dataframe thead th {\n",
       "        text-align: right;\n",
       "    }\n",
       "</style>\n",
       "<table border=\"1\" class=\"dataframe\">\n",
       "  <thead>\n",
       "    <tr style=\"text-align: right;\">\n",
       "      <th></th>\n",
       "      <th>성별</th>\n",
       "    </tr>\n",
       "  </thead>\n",
       "  <tbody>\n",
       "    <tr>\n",
       "      <th>0</th>\n",
       "      <td>남</td>\n",
       "    </tr>\n",
       "    <tr>\n",
       "      <th>1</th>\n",
       "      <td>남</td>\n",
       "    </tr>\n",
       "    <tr>\n",
       "      <th>2</th>\n",
       "      <td>녀</td>\n",
       "    </tr>\n",
       "    <tr>\n",
       "      <th>3</th>\n",
       "      <td>남</td>\n",
       "    </tr>\n",
       "    <tr>\n",
       "      <th>4</th>\n",
       "      <td>녀</td>\n",
       "    </tr>\n",
       "    <tr>\n",
       "      <th>5</th>\n",
       "      <td>녀</td>\n",
       "    </tr>\n",
       "  </tbody>\n",
       "</table>\n",
       "</div>"
      ],
      "text/plain": [
       "  성별\n",
       "0  남\n",
       "1  남\n",
       "2  녀\n",
       "3  남\n",
       "4  녀\n",
       "5  녀"
      ]
     },
     "execution_count": 3,
     "metadata": {},
     "output_type": "execute_result"
    }
   ],
   "source": [
    "import pandas as pd\n",
    "\n",
    "df = pd.DataFrame({\"성별\":[\"남\", \"남\", \"녀\", \"남\", \"녀\", \"녀\"]})\n",
    "df"
   ]
  },
  {
   "cell_type": "code",
   "execution_count": 4,
   "metadata": {},
   "outputs": [
    {
     "data": {
      "text/html": [
       "<div>\n",
       "<style scoped>\n",
       "    .dataframe tbody tr th:only-of-type {\n",
       "        vertical-align: middle;\n",
       "    }\n",
       "\n",
       "    .dataframe tbody tr th {\n",
       "        vertical-align: top;\n",
       "    }\n",
       "\n",
       "    .dataframe thead th {\n",
       "        text-align: right;\n",
       "    }\n",
       "</style>\n",
       "<table border=\"1\" class=\"dataframe\">\n",
       "  <thead>\n",
       "    <tr style=\"text-align: right;\">\n",
       "      <th></th>\n",
       "      <th>성별</th>\n",
       "    </tr>\n",
       "  </thead>\n",
       "  <tbody>\n",
       "    <tr>\n",
       "      <th>0</th>\n",
       "      <td>0</td>\n",
       "    </tr>\n",
       "    <tr>\n",
       "      <th>1</th>\n",
       "      <td>0</td>\n",
       "    </tr>\n",
       "    <tr>\n",
       "      <th>2</th>\n",
       "      <td>1</td>\n",
       "    </tr>\n",
       "    <tr>\n",
       "      <th>3</th>\n",
       "      <td>0</td>\n",
       "    </tr>\n",
       "    <tr>\n",
       "      <th>4</th>\n",
       "      <td>1</td>\n",
       "    </tr>\n",
       "    <tr>\n",
       "      <th>5</th>\n",
       "      <td>1</td>\n",
       "    </tr>\n",
       "  </tbody>\n",
       "</table>\n",
       "</div>"
      ],
      "text/plain": [
       "   성별\n",
       "0   0\n",
       "1   0\n",
       "2   1\n",
       "3   0\n",
       "4   1\n",
       "5   1"
      ]
     },
     "execution_count": 4,
     "metadata": {},
     "output_type": "execute_result"
    }
   ],
   "source": [
    "# 더미변수 처리\n",
    "df['성별'] = df['성별'].apply(lambda v: 0 if v == \"남\" else 1)\n",
    "df"
   ]
  },
  {
   "cell_type": "markdown",
   "metadata": {},
   "source": [
    "만약 class 가 3개 이상인 질적변수의 경우는 어떻게 처리할까?\n",
    "\n",
    "책의 예를 들어 credit card balance를 예측하기 위한 독립변수로 인종(아시아인, 백인, 아프리카인)이 있다면, 아래와 같은 식으로 더미 변수를 만들어 준다."
   ]
  },
  {
   "cell_type": "code",
   "execution_count": 5,
   "metadata": {},
   "outputs": [
    {
     "data": {
      "text/html": [
       "<div>\n",
       "<style scoped>\n",
       "    .dataframe tbody tr th:only-of-type {\n",
       "        vertical-align: middle;\n",
       "    }\n",
       "\n",
       "    .dataframe tbody tr th {\n",
       "        vertical-align: top;\n",
       "    }\n",
       "\n",
       "    .dataframe thead th {\n",
       "        text-align: right;\n",
       "    }\n",
       "</style>\n",
       "<table border=\"1\" class=\"dataframe\">\n",
       "  <thead>\n",
       "    <tr style=\"text-align: right;\">\n",
       "      <th></th>\n",
       "      <th>인종</th>\n",
       "    </tr>\n",
       "  </thead>\n",
       "  <tbody>\n",
       "    <tr>\n",
       "      <th>0</th>\n",
       "      <td>아시아인</td>\n",
       "    </tr>\n",
       "    <tr>\n",
       "      <th>1</th>\n",
       "      <td>아프리카인</td>\n",
       "    </tr>\n",
       "    <tr>\n",
       "      <th>2</th>\n",
       "      <td>백인</td>\n",
       "    </tr>\n",
       "    <tr>\n",
       "      <th>3</th>\n",
       "      <td>백인</td>\n",
       "    </tr>\n",
       "    <tr>\n",
       "      <th>4</th>\n",
       "      <td>아프리카인</td>\n",
       "    </tr>\n",
       "    <tr>\n",
       "      <th>5</th>\n",
       "      <td>아시아인</td>\n",
       "    </tr>\n",
       "  </tbody>\n",
       "</table>\n",
       "</div>"
      ],
      "text/plain": [
       "      인종\n",
       "0   아시아인\n",
       "1  아프리카인\n",
       "2     백인\n",
       "3     백인\n",
       "4  아프리카인\n",
       "5   아시아인"
      ]
     },
     "execution_count": 5,
     "metadata": {},
     "output_type": "execute_result"
    }
   ],
   "source": [
    "import pandas as pd\n",
    "\n",
    "df = pd.DataFrame({\"인종\":[\"아시아인\", \"아프리카인\", \"백인\", \"백인\", \"아프리카인\", \"아시아인\"]})\n",
    "df"
   ]
  },
  {
   "cell_type": "code",
   "execution_count": 6,
   "metadata": {},
   "outputs": [
    {
     "data": {
      "text/html": [
       "<div>\n",
       "<style scoped>\n",
       "    .dataframe tbody tr th:only-of-type {\n",
       "        vertical-align: middle;\n",
       "    }\n",
       "\n",
       "    .dataframe tbody tr th {\n",
       "        vertical-align: top;\n",
       "    }\n",
       "\n",
       "    .dataframe thead th {\n",
       "        text-align: right;\n",
       "    }\n",
       "</style>\n",
       "<table border=\"1\" class=\"dataframe\">\n",
       "  <thead>\n",
       "    <tr style=\"text-align: right;\">\n",
       "      <th></th>\n",
       "      <th>인종_아시아인</th>\n",
       "      <th>인종_백인</th>\n",
       "    </tr>\n",
       "  </thead>\n",
       "  <tbody>\n",
       "    <tr>\n",
       "      <th>0</th>\n",
       "      <td>1</td>\n",
       "      <td>0</td>\n",
       "    </tr>\n",
       "    <tr>\n",
       "      <th>1</th>\n",
       "      <td>0</td>\n",
       "      <td>0</td>\n",
       "    </tr>\n",
       "    <tr>\n",
       "      <th>2</th>\n",
       "      <td>0</td>\n",
       "      <td>1</td>\n",
       "    </tr>\n",
       "    <tr>\n",
       "      <th>3</th>\n",
       "      <td>0</td>\n",
       "      <td>1</td>\n",
       "    </tr>\n",
       "    <tr>\n",
       "      <th>4</th>\n",
       "      <td>0</td>\n",
       "      <td>0</td>\n",
       "    </tr>\n",
       "    <tr>\n",
       "      <th>5</th>\n",
       "      <td>1</td>\n",
       "      <td>0</td>\n",
       "    </tr>\n",
       "  </tbody>\n",
       "</table>\n",
       "</div>"
      ],
      "text/plain": [
       "   인종_아시아인  인종_백인\n",
       "0        1      0\n",
       "1        0      0\n",
       "2        0      1\n",
       "3        0      1\n",
       "4        0      0\n",
       "5        1      0"
      ]
     },
     "execution_count": 6,
     "metadata": {},
     "output_type": "execute_result"
    }
   ],
   "source": [
    "df = pd.DataFrame({\"인종_아시아인\":[1, 0, 0, 0, 0, 1], \"인종_백인\":[0, 0, 1, 1, 0, 0]})\n",
    "df"
   ]
  },
  {
   "cell_type": "markdown",
   "metadata": {},
   "source": [
    "이처럼 class의 개수가 $n$개라면 $n-1$개의 더미변수를 만들어주면 된다. 왜냐하면 위 표에서 확인할 수 있듯이, 아시아인도 아니고 백인도 아니면 필연적으로 아프리카인이라는 것을 알 수 있기 때문이다.\n",
    "\n",
    "만약 아래 표 같이 n개의 더미 변수를 만들어주면 어떻게 될까?"
   ]
  },
  {
   "cell_type": "code",
   "execution_count": 7,
   "metadata": {},
   "outputs": [
    {
     "data": {
      "text/html": [
       "<div>\n",
       "<style scoped>\n",
       "    .dataframe tbody tr th:only-of-type {\n",
       "        vertical-align: middle;\n",
       "    }\n",
       "\n",
       "    .dataframe tbody tr th {\n",
       "        vertical-align: top;\n",
       "    }\n",
       "\n",
       "    .dataframe thead th {\n",
       "        text-align: right;\n",
       "    }\n",
       "</style>\n",
       "<table border=\"1\" class=\"dataframe\">\n",
       "  <thead>\n",
       "    <tr style=\"text-align: right;\">\n",
       "      <th></th>\n",
       "      <th>인종_백인</th>\n",
       "      <th>인종_아시아인</th>\n",
       "      <th>인종_아프리카인</th>\n",
       "    </tr>\n",
       "  </thead>\n",
       "  <tbody>\n",
       "    <tr>\n",
       "      <th>0</th>\n",
       "      <td>0</td>\n",
       "      <td>1</td>\n",
       "      <td>0</td>\n",
       "    </tr>\n",
       "    <tr>\n",
       "      <th>1</th>\n",
       "      <td>0</td>\n",
       "      <td>0</td>\n",
       "      <td>1</td>\n",
       "    </tr>\n",
       "    <tr>\n",
       "      <th>2</th>\n",
       "      <td>1</td>\n",
       "      <td>0</td>\n",
       "      <td>0</td>\n",
       "    </tr>\n",
       "    <tr>\n",
       "      <th>3</th>\n",
       "      <td>1</td>\n",
       "      <td>0</td>\n",
       "      <td>0</td>\n",
       "    </tr>\n",
       "    <tr>\n",
       "      <th>4</th>\n",
       "      <td>0</td>\n",
       "      <td>0</td>\n",
       "      <td>1</td>\n",
       "    </tr>\n",
       "    <tr>\n",
       "      <th>5</th>\n",
       "      <td>0</td>\n",
       "      <td>1</td>\n",
       "      <td>0</td>\n",
       "    </tr>\n",
       "  </tbody>\n",
       "</table>\n",
       "</div>"
      ],
      "text/plain": [
       "   인종_백인  인종_아시아인  인종_아프리카인\n",
       "0      0        1         0\n",
       "1      0        0         1\n",
       "2      1        0         0\n",
       "3      1        0         0\n",
       "4      0        0         1\n",
       "5      0        1         0"
      ]
     },
     "execution_count": 7,
     "metadata": {},
     "output_type": "execute_result"
    }
   ],
   "source": [
    "df = pd.DataFrame({\"인종\":[\"아시아인\", \"아프리카인\", \"백인\", \"백인\", \"아프리카인\", \"아시아인\"]})\n",
    "pd.get_dummies(df)"
   ]
  },
  {
   "cell_type": "markdown",
   "metadata": {},
   "source": [
    "위와 같이 class의 개수만큼 더미변수를 만들어주게 된다면, 행렬 연산 시 완벽한 함수관계가 생겨버리기 때문에 문제가 된다(행렬 연산에서 역행렬이 만들어질 수 없다.). 참고로 완벽한 함수관계란 컬럼들의 선형결합으로 다른 컬럼을 완벽하게 만들어 낼 수 있는 상황이다. 이 경우 행렬의 rank가 컬럼수보다 작아지게 되는데 정규방정식 계산에 있어 문제가 발생한다고 한다.\n",
    "\n",
    "하지만, 정규방정식이 아닌 경사하강법 등 역행렬 계산이 필요없는 상황에서는 $n$개의 더미변수를 만들어줘도 된다. 결국 이는 해석의 문제!\n",
    "\n",
    "참고로 아시아인, 백인, 아프리카인을 0, 1, 2로 인코딩해주면 안된다. 왜냐하면 인종 사이에 말도안되는 선형관계가 생겨버리기 때문이다. 예를 들어 이전과 같이 인코딩 했다고 한다면 백인 + 백인 = 아프리카인이라는 말도 안되는 관계가 생겨버리게 된다."
   ]
  },
  {
   "cell_type": "markdown",
   "metadata": {},
   "source": [
    "### 3.3.2 Extensions of the Linear Model\n",
    "---\n",
    "\n",
    "우리는 선형모델을 추정함에 있어 두 가지 큰 가정을 했다. 먼저 ***additive***, 각각의 독립변수들은 서로 독립이며, ***linear*** 종속변수와 독립변수 사이에 선형관계가 있다는 가정을 했다.\n",
    "\n",
    "지금부터 이 두 가지 가정을 없애보자.\n",
    "\n",
    "#### Removing the Additive Assumption\n",
    "선형모델은 하나의 $X_i$ 증가로 인한 $Y$의 변화는 다른 $X_j$에 관계없다고 가정하지만, 실제로는 관계가 있을 수 있다. 아래 그래프를 보자.\n",
    "![그림](https://user-images.githubusercontent.com/31824102/35181410-0e137ae6-fdb9-11e7-8e87-1f3560c5c9c5.PNG)\n",
    "\n",
    "**Radio**와 **TV**사이에 선형관계가 존재하면서 동시에 **Sales와** 선형관계가 있는 상황. 이 경우 우리는 **상호 작용항(interaction term)**을 넣어줘야 한다. \n",
    "\n",
    "기존 모델 $Y = \\beta_0 + \\beta_1X_1 + \\beta_2X_2 + e$에서 상호작용항을 넣어주면 아래 식과 같다.\n",
    "\n",
    "\\begin{equation*}\n",
    "Y = \\beta_0 + \\beta_1X_1 + \\beta_2X_2 + \\beta_3X_1X_2 + e\n",
    "\\end{equation*}\n",
    "\n",
    "$\\beta_3$ 역시 p-value를 계산해 상호 작용항이 유의한지 판단해야 한다. 만약 $\\beta_2$가 유의하지 않고, $\\beta_3$가 유의하다고 나오더라도, 계층적 구조 원칙(archical principle)에 따라 $\\beta_2$를 반드시 포함해줘야 한다.\n",
    "\n",
    "상호 작용항은 질적변수와 양적변수가 같이 있는 상황에서도 고려해야 한다. 만약 상호 작용이 질적변수와 양적사이에 존재한다면 기울기도 다른 여러 직선이 존재할 수 있다.\n",
    "\n",
    "![그림](https://user-images.githubusercontent.com/31824102/35181407-0d3e34e4-fdb9-11e7-9ca2-75308c0ae60a.PNG)\n",
    "\n",
    "#### Non-linear Relationships\n",
    "실제 데이터가 선형관계가 아닌 비선형관계일 수 있다. 이는 다항회귀(polynomial regression)을 통해 표현할 수 있다. 즉, 기존의 선형 모델에 거듭제곱 항을 부여해 비선형성 관계를 넣어주는 것이다. 아래 그래프를 보자.\n",
    "\n",
    "![그림](https://user-images.githubusercontent.com/31824102/35181406-0d0a1f4c-fdb9-11e7-9298-7b5878c900d4.PNG)\n",
    "\n",
    "데이터를 보면 주황색 선형함수보다 초록색 5차함수가 좀 더 잘 추정된 것으로 보인다. 다항회귀 식은 아래와 같다.\n",
    "\n",
    "\\begin{equation*}\n",
    "Y = \\beta_0 + \\beta_1X_1 + \\beta_2X_1^2 + \\beta_3X_1^3 + ... \\beta_nX_1^n + e\n",
    "\\end{equation*}\n",
    "\n",
    "주의할 점은 비선형성을 부여한다는 것은 큰 함수공간 속 함수를 채택한다는 것이고, variance의 증가를 의미하며 과적합의 가능성이 높아질 수 있다."
   ]
  },
  {
   "cell_type": "markdown",
   "metadata": {},
   "source": [
    "### 3.3.3 Potential Problem\n",
    "---\n",
    "\n",
    "- 1) 종속변수와의 관계가 비선형일 수도 있다.\n",
    "- 2) 오류 항과 독립변수가 독립이 아닐 수도 있다.\n",
    "- 3) 오류 항이 등분산이 아닐 수도 있다.\n",
    "- 4) Outlier가 있을수 있다.\n",
    "- 5) High-leverage points가 있을 수 있다.\n",
    "- 6) 다중공선성이 있을 수 있다.\n",
    "\n",
    "#### 1) Non-linearity of the Data\n",
    "#### 2) Correlation of Error Terms\n",
    "#### 3) Non-constant Variance of Error Terms\n",
    "#### 4) Outliers\n",
    "#### 5) High Leverage Points\n",
    "#### 6) Collinearity"
   ]
  }
 ],
 "metadata": {
  "kernelspec": {
   "display_name": "Python 3",
   "language": "python",
   "name": "python3"
  },
  "language_info": {
   "codemirror_mode": {
    "name": "ipython",
    "version": 3
   },
   "file_extension": ".py",
   "mimetype": "text/x-python",
   "name": "python",
   "nbconvert_exporter": "python",
   "pygments_lexer": "ipython3",
   "version": "3.6.7"
  },
  "toc": {
   "base_numbering": 1,
   "nav_menu": {},
   "number_sections": true,
   "sideBar": true,
   "skip_h1_title": false,
   "title_cell": "Table of Contents",
   "title_sidebar": "Contents",
   "toc_cell": false,
   "toc_position": {},
   "toc_section_display": true,
   "toc_window_display": false
  }
 },
 "nbformat": 4,
 "nbformat_minor": 2
}
