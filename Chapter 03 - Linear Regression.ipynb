{
 "cells": [
  {
   "cell_type": "markdown",
   "metadata": {},
   "source": [
    "# [ISLR] Chapter 03 - Linear Regression\n",
    "\n",
    "* ISLR 책을 공부하며 가벼운 내용 소개, 원래 알고 있던 내용을 함께 정리합니다.\n",
    "* ISLR 책에 대한 원서는 [여기](http://www-bcf.usc.edu/~gareth/ISL/)에서 확인할 수 있습니다.\n",
    "* ISLR 책에 대한 참고 블로그는 [Go`s Blog](https://godongyoung.github.io/category/ML.html)를 참고했습니다.\n",
    "* 코드 구현은 [밑바닥부터 시작하는 데이터 과학](https://book.naver.com/bookdb/book_detail.nhn?bid=10652749) 이 책을 참고했습니다.\n",
    "* 오타나 틀린 내용, 토의할 내용은 언제나 이슈로 등록해주세요.\n",
    "---"
   ]
  },
  {
   "cell_type": "markdown",
   "metadata": {},
   "source": [
    "## Contents\n",
    "    3.1 Simple Linear Regression\n",
    "        3.1.1 Estimating the Coefficients\n",
    "        3.1.2 Assessing the Accuracy of the Coefficient Estimates\n",
    "        3.1.3 Assessing the Accuracy of the Model\n",
    "    \n",
    "    3.2 Multiple Linear Regression\n",
    "        3.2.1 Estimating the Regression Coefficients\n",
    "        3.2.2 Some Important Questions\n",
    "    \n",
    "    3.3 Other Considerations in the Regression Model\n",
    "        3.3.1 Qualitative Predictors\n",
    "        3.3.2 Extensions of the Linear Model\n",
    "        3.3.3 Potential Problems\n",
    "        \n",
    "    3.4 The Marketing Plan\n",
    "    \n",
    "    3.4 Comparison of Linear Regression with K-Nearest Neighbors\n",
    "---"
   ]
  },
  {
   "cell_type": "code",
   "execution_count": null,
   "metadata": {},
   "outputs": [],
   "source": []
  }
 ],
 "metadata": {
  "kernelspec": {
   "display_name": "Python 3",
   "language": "python",
   "name": "python3"
  },
  "language_info": {
   "codemirror_mode": {
    "name": "ipython",
    "version": 3
   },
   "file_extension": ".py",
   "mimetype": "text/x-python",
   "name": "python",
   "nbconvert_exporter": "python",
   "pygments_lexer": "ipython3",
   "version": "3.6.7"
  }
 },
 "nbformat": 4,
 "nbformat_minor": 2
}
