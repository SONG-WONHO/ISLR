{
 "cells": [
  {
   "cell_type": "markdown",
   "metadata": {},
   "source": [
    "# [ISLR] Chapter 05 - Resampling Methods\n",
    "\n",
    "* ISLR 책을 공부하며 가벼운 내용 소개, 원래 알고 있던 내용을 함께 정리합니다.\n",
    "* ISLR 책에 대한 원서는 [여기](http://www-bcf.usc.edu/~gareth/ISL/)에서 확인할 수 있습니다.\n",
    "* ISLR 책에 대한 참고 블로그는 [Go`s Blog](https://godongyoung.github.io/category/ML.html)를 참고했습니다.\n",
    "* 코드 구현은 [밑바닥부터 시작하는 데이터 과학](https://book.naver.com/bookdb/book_detail.nhn?bid=10652749) 이 책을 참고했습니다.\n",
    "* 오타나 틀린 내용, 토의할 내용은 언제나 이슈로 등록해주세요.\n",
    "---"
   ]
  },
  {
   "cell_type": "markdown",
   "metadata": {},
   "source": [
    "## Contents\n",
    "    5.1 Cross-Validation\n",
    "        5.1.1 The Validation Set Approach\n",
    "        5.1.2 Leave-One-Out Cross-Validation\n",
    "        5.1.3 k-Fold Cross-Validation\n",
    "        5.1.4 Bias-Variance Trade-Off for k-Fold\n",
    "        5.1.5 Cross-Validation on Classification Problems\n",
    "        \n",
    "    5.2 The Bootstrap"
   ]
  },
  {
   "cell_type": "markdown",
   "metadata": {},
   "source": [
    "재표본추출(Resampling) 방법은 통계에 있어서 없어서는 안될 방법론이라고 한다. 간단히 말해서 train data에서 반복해서 sample을 추출하고, 추출된 sample로 여러번 모델을 추정하는 것이다. 재표본추출의 장점은 무엇일까? 일단 우리에게 주어진 데이터는 매우 제한돼있다. 또한 전체 데이터를 한 번 사용하는 것보다 여러번 반복해서 사용하면 더 추가적인 정보를 얻을 수 있다.\n",
    "\n",
    "예를 들어, 하나의 train data에 대해 수많은 sample을 추출하고, 선형회귀적합을 했을 때, 기존에는 알 수 없었던 우리의 모델이 데이터가 달라짐에 따라 어떤 범위에 있을 지 즉, Variance를 평가해 볼 수 있게 된다.\n",
    "\n",
    "구체적인 장점은 **5.2 The Bootstrap** 파트에서 설명하도록 하겠다.\n",
    "\n",
    "데이터 셋과 관련한 또다른 한계는 우리는 test data를 알지 못한다는 것이다. 하지만 test error가 제일 낮은 모델을 찾는 것이 최고 목표이다. 뭔가 역설적인 상황이 느껴지지 않는가? 이런 한계를 극복하기 위해 기존 train data의 일부를 마치 test data인 것처럼 활용하는 방법론들이 등장했다. 구체적으로 **5.1 Cross-Validation** 파트에서 설명하도록 하겠다.\n",
    "\n",
    "이 쯔음 우리가 통계적 학습을 통해 얻고자 하는 것이 무엇인지 다시 한 번 생각해보자. 우리는 일련의 목표를 달성하기 위해 목표와 연관된 데이터들을 수집하고, 이들 사이를 가장 잘 설명해줄 수 있는 특정 패턴을 통계적 학습을 통해 찾아내는 것이다. 즉, 이 세상 어딘가에 정말 완벽한 패턴 즉, 함수는 존재한다. 하지만, 우리는 그 완벽한 함수를 찾을 수 없다. 완벽한 함수를 찾기에 주어진 데이터가 너무 적고, 정확한 함수공간 조차 알 수 없다. 이번 장은 주어진 데이터가 너무 적기 때문에 발생하는 문제를 최선으로 해결해보는 아주 중요한 파트이다. 완벽히 학습하고 넘어가길 바란다!"
   ]
  },
  {
   "cell_type": "markdown",
   "metadata": {},
   "source": [
    "## 5.1 Cross-Validation"
   ]
  },
  {
   "cell_type": "code",
   "execution_count": null,
   "metadata": {},
   "outputs": [],
   "source": []
  }
 ],
 "metadata": {
  "kernelspec": {
   "display_name": "Python 3",
   "language": "python",
   "name": "python3"
  },
  "language_info": {
   "codemirror_mode": {
    "name": "ipython",
    "version": 3
   },
   "file_extension": ".py",
   "mimetype": "text/x-python",
   "name": "python",
   "nbconvert_exporter": "python",
   "pygments_lexer": "ipython3",
   "version": "3.6.7"
  },
  "toc": {
   "base_numbering": 1,
   "nav_menu": {},
   "number_sections": true,
   "sideBar": true,
   "skip_h1_title": false,
   "title_cell": "Table of Contents",
   "title_sidebar": "Contents",
   "toc_cell": false,
   "toc_position": {},
   "toc_section_display": true,
   "toc_window_display": false
  }
 },
 "nbformat": 4,
 "nbformat_minor": 2
}
