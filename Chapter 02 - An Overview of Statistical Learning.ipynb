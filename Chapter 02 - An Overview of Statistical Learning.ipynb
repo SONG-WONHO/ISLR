{
 "cells": [
  {
   "cell_type": "markdown",
   "metadata": {},
   "source": [
    "# [ISLR] Chapter 02 - An Overview of Statistical Learning\n",
    "\n",
    "* ISLR 책을 공부하며 가벼운 내용 소개, 원래 알고 있던 내용을 함께 정리합니다.\n",
    "* ISLR 책에 대한 원서는 [여기](http://www-bcf.usc.edu/~gareth/ISL/)에서 확인할 수 있습니다.\n",
    "* 코드 구현은 [밑바닥부터 시작하는 데이터 과학](https://book.naver.com/bookdb/book_detail.nhn?bid=10652749) 이 책을 참고했습니다.\n",
    "* 오타나 틀린 내용, 토의할 내용은 언제나 이슈로 등록해주세요."
   ]
  },
  {
   "cell_type": "markdown",
   "metadata": {},
   "source": [
    "### Contents\n",
    "    2.1 What Is Statistical Learning?\n",
    "        2.1.1 Why Estimate f?\n",
    "        2.1.2 How Do We Estimate f?\n",
    "        2.1.3 The Trade-Off Between Prediction Accuracy and Model Interpretability\n",
    "        2.1.4 Supervised Versus Unsupervised Learning\n",
    "        2.1.5 Regression Versus Classification Problems\n",
    "        \n",
    "    2.2 Assessing Model Accuracy \n",
    "        2.2.1 Measuring the Quality of Fit\n",
    "        2.2.2 The Bias-Variance Trade-Off\n",
    "        2.2.3 The Classification Setting"
   ]
  },
  {
   "cell_type": "code",
   "execution_count": null,
   "metadata": {},
   "outputs": [],
   "source": []
  }
 ],
 "metadata": {
  "kernelspec": {
   "display_name": "Python 3",
   "language": "python",
   "name": "python3"
  },
  "language_info": {
   "codemirror_mode": {
    "name": "ipython",
    "version": 3
   },
   "file_extension": ".py",
   "mimetype": "text/x-python",
   "name": "python",
   "nbconvert_exporter": "python",
   "pygments_lexer": "ipython3",
   "version": "3.6.7"
  }
 },
 "nbformat": 4,
 "nbformat_minor": 2
}
